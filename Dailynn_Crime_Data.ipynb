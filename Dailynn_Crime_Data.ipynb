{
 "cells": [
  {
   "cell_type": "code",
   "execution_count": 6,
   "metadata": {},
   "outputs": [],
   "source": [
    "import pandas as pd\n",
    "import matplotlib.pyplot as plt\n",
    "import numpy as np\n",
    "import seaborn as sns"
   ]
  },
  {
   "cell_type": "markdown",
   "metadata": {},
   "source": [
    "**In Which Neighborhood Would You Live the Longest? Dailynn Personal Notebook**"
   ]
  },
  {
   "cell_type": "markdown",
   "metadata": {},
   "source": [
    "**Introduction**"
   ]
  },
  {
   "cell_type": "markdown",
   "metadata": {},
   "source": [
    "    For my dataset to answer this question, I chose the police incident data from the WRDC Pittsburgh website that dates all the way back from 2016 until now which contained about 600,000 rows of data. Individuals will most likely live longer in areas with the lowest amount of crime."
   ]
  },
  {
   "cell_type": "code",
   "execution_count": 7,
   "metadata": {},
   "outputs": [
    {
     "data": {
      "text/html": [
       "<div>\n",
       "<style scoped>\n",
       "    .dataframe tbody tr th:only-of-type {\n",
       "        vertical-align: middle;\n",
       "    }\n",
       "\n",
       "    .dataframe tbody tr th {\n",
       "        vertical-align: top;\n",
       "    }\n",
       "\n",
       "    .dataframe thead th {\n",
       "        text-align: right;\n",
       "    }\n",
       "</style>\n",
       "<table border=\"1\" class=\"dataframe\">\n",
       "  <thead>\n",
       "    <tr style=\"text-align: right;\">\n",
       "      <th></th>\n",
       "      <th>PK</th>\n",
       "      <th>CCR</th>\n",
       "      <th>HIERARCHY</th>\n",
       "      <th>INCIDENTTIME</th>\n",
       "      <th>INCIDENTLOCATION</th>\n",
       "      <th>CLEAREDFLAG</th>\n",
       "      <th>INCIDENTNEIGHBORHOOD</th>\n",
       "      <th>INCIDENTZONE</th>\n",
       "      <th>INCIDENTHIERARCHYDESC</th>\n",
       "      <th>OFFENSES</th>\n",
       "      <th>INCIDENTTRACT</th>\n",
       "      <th>COUNCIL_DISTRICT</th>\n",
       "      <th>PUBLIC_WORKS_DIVISION</th>\n",
       "      <th>X</th>\n",
       "      <th>Y</th>\n",
       "    </tr>\n",
       "  </thead>\n",
       "  <tbody>\n",
       "    <tr>\n",
       "      <th>0</th>\n",
       "      <td>2802309</td>\n",
       "      <td>16000001.0</td>\n",
       "      <td>10</td>\n",
       "      <td>2016-01-01T00:00:00</td>\n",
       "      <td>400 Block North Shore DR Pittsburgh, PA 15212</td>\n",
       "      <td>Y</td>\n",
       "      <td>North Shore</td>\n",
       "      <td>1</td>\n",
       "      <td>HARRASSMENT/THREAT/ATTEMPT/PHY</td>\n",
       "      <td>2702 Aggravated Assault. / 2709(a) Harassment....</td>\n",
       "      <td>2205.0</td>\n",
       "      <td>1.0</td>\n",
       "      <td>6.0</td>\n",
       "      <td>-80.012337</td>\n",
       "      <td>40.446263</td>\n",
       "    </tr>\n",
       "    <tr>\n",
       "      <th>1</th>\n",
       "      <td>2803174</td>\n",
       "      <td>16004547.0</td>\n",
       "      <td>11</td>\n",
       "      <td>2016-01-01T00:01:00</td>\n",
       "      <td>5400 Block Carnegie ST Pittsburgh, PA 15201</td>\n",
       "      <td>N</td>\n",
       "      <td>Upper Lawrenceville</td>\n",
       "      <td>2</td>\n",
       "      <td>THEFT BY DECEPTION</td>\n",
       "      <td>3922 Theft by Deception.</td>\n",
       "      <td>1011.0</td>\n",
       "      <td>7.0</td>\n",
       "      <td>2.0</td>\n",
       "      <td>-79.950295</td>\n",
       "      <td>40.482290</td>\n",
       "    </tr>\n",
       "    <tr>\n",
       "      <th>2</th>\n",
       "      <td>2801809</td>\n",
       "      <td>16000367.0</td>\n",
       "      <td>4</td>\n",
       "      <td>2016-01-01T00:10:00</td>\n",
       "      <td>500 Block Mt Pleasant RD Pittsburgh, PA 15214</td>\n",
       "      <td>N</td>\n",
       "      <td>Northview Heights</td>\n",
       "      <td>1</td>\n",
       "      <td>DISCHARGE OF FIREARM INTO OCC.STRUCTURE</td>\n",
       "      <td>2707.1 Discharge of a Firearm into Occupied St...</td>\n",
       "      <td>2609.0</td>\n",
       "      <td>1.0</td>\n",
       "      <td>1.0</td>\n",
       "      <td>-80.000966</td>\n",
       "      <td>40.478651</td>\n",
       "    </tr>\n",
       "    <tr>\n",
       "      <th>3</th>\n",
       "      <td>2802315</td>\n",
       "      <td>16000035.0</td>\n",
       "      <td>10</td>\n",
       "      <td>2016-01-01T00:15:00</td>\n",
       "      <td>300 Block Wood ST Pittsburgh, PA 15222</td>\n",
       "      <td>Y</td>\n",
       "      <td>Golden Triangle/Civic Arena</td>\n",
       "      <td>2</td>\n",
       "      <td>HARRASSMENT/THREAT/ATTEMPT/PHY</td>\n",
       "      <td>2709(a)(3) Harassment No Legitimate Purpose</td>\n",
       "      <td>201.0</td>\n",
       "      <td>6.0</td>\n",
       "      <td>6.0</td>\n",
       "      <td>-80.001251</td>\n",
       "      <td>40.438918</td>\n",
       "    </tr>\n",
       "    <tr>\n",
       "      <th>4</th>\n",
       "      <td>2802312</td>\n",
       "      <td>16000024.0</td>\n",
       "      <td>4</td>\n",
       "      <td>2016-01-01T00:16:00</td>\n",
       "      <td>500 Block Mt Pleasant RD Pittsburgh, PA 15214</td>\n",
       "      <td>N</td>\n",
       "      <td>Northview Heights</td>\n",
       "      <td>1</td>\n",
       "      <td>PROP MISSILE INTO OCC VEHICLE/OR ROADWAY</td>\n",
       "      <td>2705 Recklessy Endangering Another Person. / 3...</td>\n",
       "      <td>2609.0</td>\n",
       "      <td>1.0</td>\n",
       "      <td>1.0</td>\n",
       "      <td>-80.000966</td>\n",
       "      <td>40.478651</td>\n",
       "    </tr>\n",
       "  </tbody>\n",
       "</table>\n",
       "</div>"
      ],
      "text/plain": [
       "        PK         CCR  HIERARCHY         INCIDENTTIME   \n",
       "0  2802309  16000001.0         10  2016-01-01T00:00:00  \\\n",
       "1  2803174  16004547.0         11  2016-01-01T00:01:00   \n",
       "2  2801809  16000367.0          4  2016-01-01T00:10:00   \n",
       "3  2802315  16000035.0         10  2016-01-01T00:15:00   \n",
       "4  2802312  16000024.0          4  2016-01-01T00:16:00   \n",
       "\n",
       "                                INCIDENTLOCATION CLEAREDFLAG   \n",
       "0  400 Block North Shore DR Pittsburgh, PA 15212           Y  \\\n",
       "1    5400 Block Carnegie ST Pittsburgh, PA 15201           N   \n",
       "2  500 Block Mt Pleasant RD Pittsburgh, PA 15214           N   \n",
       "3         300 Block Wood ST Pittsburgh, PA 15222           Y   \n",
       "4  500 Block Mt Pleasant RD Pittsburgh, PA 15214           N   \n",
       "\n",
       "          INCIDENTNEIGHBORHOOD INCIDENTZONE   \n",
       "0                  North Shore            1  \\\n",
       "1          Upper Lawrenceville            2   \n",
       "2            Northview Heights            1   \n",
       "3  Golden Triangle/Civic Arena            2   \n",
       "4            Northview Heights            1   \n",
       "\n",
       "                      INCIDENTHIERARCHYDESC   \n",
       "0            HARRASSMENT/THREAT/ATTEMPT/PHY  \\\n",
       "1                        THEFT BY DECEPTION   \n",
       "2   DISCHARGE OF FIREARM INTO OCC.STRUCTURE   \n",
       "3            HARRASSMENT/THREAT/ATTEMPT/PHY   \n",
       "4  PROP MISSILE INTO OCC VEHICLE/OR ROADWAY   \n",
       "\n",
       "                                            OFFENSES  INCIDENTTRACT   \n",
       "0  2702 Aggravated Assault. / 2709(a) Harassment....         2205.0  \\\n",
       "1                           3922 Theft by Deception.         1011.0   \n",
       "2  2707.1 Discharge of a Firearm into Occupied St...         2609.0   \n",
       "3        2709(a)(3) Harassment No Legitimate Purpose          201.0   \n",
       "4  2705 Recklessy Endangering Another Person. / 3...         2609.0   \n",
       "\n",
       "   COUNCIL_DISTRICT  PUBLIC_WORKS_DIVISION          X          Y  \n",
       "0               1.0                    6.0 -80.012337  40.446263  \n",
       "1               7.0                    2.0 -79.950295  40.482290  \n",
       "2               1.0                    1.0 -80.000966  40.478651  \n",
       "3               6.0                    6.0 -80.001251  40.438918  \n",
       "4               1.0                    1.0 -80.000966  40.478651  "
      ]
     },
     "execution_count": 7,
     "metadata": {},
     "output_type": "execute_result"
    }
   ],
   "source": [
    "#First we load our dataset\n",
    "crime_data = pd.read_csv('pgh_crime1.csv')\n",
    "crime_data.head()"
   ]
  },
  {
   "cell_type": "code",
   "execution_count": 8,
   "metadata": {},
   "outputs": [
    {
     "data": {
      "text/plain": [
       "PK                         int64\n",
       "CCR                      float64\n",
       "HIERARCHY                  int64\n",
       "INCIDENTTIME              object\n",
       "INCIDENTLOCATION          object\n",
       "CLEAREDFLAG               object\n",
       "INCIDENTNEIGHBORHOOD      object\n",
       "INCIDENTZONE              object\n",
       "INCIDENTHIERARCHYDESC     object\n",
       "OFFENSES                  object\n",
       "INCIDENTTRACT            float64\n",
       "COUNCIL_DISTRICT         float64\n",
       "PUBLIC_WORKS_DIVISION    float64\n",
       "X                        float64\n",
       "Y                        float64\n",
       "dtype: object"
      ]
     },
     "execution_count": 8,
     "metadata": {},
     "output_type": "execute_result"
    }
   ],
   "source": [
    "#Check the datatypes\n",
    "crime_data.dtypes"
   ]
  },
  {
   "cell_type": "code",
   "execution_count": 9,
   "metadata": {},
   "outputs": [
    {
     "data": {
      "text/plain": [
       "PK                            0\n",
       "CCR                           0\n",
       "HIERARCHY                     0\n",
       "INCIDENTTIME                  5\n",
       "INCIDENTLOCATION              0\n",
       "CLEAREDFLAG                   0\n",
       "INCIDENTNEIGHBORHOOD       6346\n",
       "INCIDENTZONE                  1\n",
       "INCIDENTHIERARCHYDESC    107269\n",
       "OFFENSES                      0\n",
       "INCIDENTTRACT              6274\n",
       "COUNCIL_DISTRICT          41106\n",
       "PUBLIC_WORKS_DIVISION     41106\n",
       "X                         28334\n",
       "Y                         28334\n",
       "dtype: int64"
      ]
     },
     "execution_count": 9,
     "metadata": {},
     "output_type": "execute_result"
    }
   ],
   "source": [
    "#Check for missing data\n",
    "crime_data.isnull().sum()"
   ]
  },
  {
   "cell_type": "markdown",
   "metadata": {},
   "source": [
    "    Above we checked for missing data. There was a couple categories with missing data but the only two that are fully relevant to the data are INCIDENTNEIGHBORHOOD and INCIDENTHEIRARCHYDESC(which shows the instances of crime commited). Below we drop all the rows with missing data so it does not impact our analysis. Lack of the recorded crime instance, leads to lack of further investigation since the crime was not properly logged anyway. "
   ]
  },
  {
   "cell_type": "markdown",
   "metadata": {},
   "source": [
    "    Evaluation of the data where indicent neighborhood is missing conveys that incident location where other rows have street address and zipcode also only have zone information. There are six police zones in pittsburgh and way more neighborhoods than police zones. Thus, there is no way to figure out which neighborhoods correspond to which zone for the empty incident neighborhood rows. "
   ]
  },
  {
   "cell_type": "code",
   "execution_count": 5,
   "metadata": {},
   "outputs": [
    {
     "data": {
      "text/html": [
       "<div>\n",
       "<style scoped>\n",
       "    .dataframe tbody tr th:only-of-type {\n",
       "        vertical-align: middle;\n",
       "    }\n",
       "\n",
       "    .dataframe tbody tr th {\n",
       "        vertical-align: top;\n",
       "    }\n",
       "\n",
       "    .dataframe thead th {\n",
       "        text-align: right;\n",
       "    }\n",
       "</style>\n",
       "<table border=\"1\" class=\"dataframe\">\n",
       "  <thead>\n",
       "    <tr style=\"text-align: right;\">\n",
       "      <th></th>\n",
       "      <th>PK</th>\n",
       "      <th>CCR</th>\n",
       "      <th>HIERARCHY</th>\n",
       "      <th>INCIDENTTIME</th>\n",
       "      <th>INCIDENTLOCATION</th>\n",
       "      <th>CLEAREDFLAG</th>\n",
       "      <th>INCIDENTNEIGHBORHOOD</th>\n",
       "      <th>INCIDENTZONE</th>\n",
       "      <th>INCIDENTHIERARCHYDESC</th>\n",
       "      <th>OFFENSES</th>\n",
       "      <th>INCIDENTTRACT</th>\n",
       "      <th>COUNCIL_DISTRICT</th>\n",
       "      <th>PUBLIC_WORKS_DIVISION</th>\n",
       "      <th>X</th>\n",
       "      <th>Y</th>\n",
       "    </tr>\n",
       "  </thead>\n",
       "  <tbody>\n",
       "    <tr>\n",
       "      <th>0</th>\n",
       "      <td>2802309</td>\n",
       "      <td>16000001.0</td>\n",
       "      <td>10</td>\n",
       "      <td>2016-01-01T00:00:00</td>\n",
       "      <td>400 Block North Shore DR Pittsburgh, PA 15212</td>\n",
       "      <td>Y</td>\n",
       "      <td>North Shore</td>\n",
       "      <td>1</td>\n",
       "      <td>HARRASSMENT/THREAT/ATTEMPT/PHY</td>\n",
       "      <td>2702 Aggravated Assault. / 2709(a) Harassment....</td>\n",
       "      <td>2205.0</td>\n",
       "      <td>1.0</td>\n",
       "      <td>6.0</td>\n",
       "      <td>-80.012337</td>\n",
       "      <td>40.446263</td>\n",
       "    </tr>\n",
       "    <tr>\n",
       "      <th>1</th>\n",
       "      <td>2803174</td>\n",
       "      <td>16004547.0</td>\n",
       "      <td>11</td>\n",
       "      <td>2016-01-01T00:01:00</td>\n",
       "      <td>5400 Block Carnegie ST Pittsburgh, PA 15201</td>\n",
       "      <td>N</td>\n",
       "      <td>Upper Lawrenceville</td>\n",
       "      <td>2</td>\n",
       "      <td>THEFT BY DECEPTION</td>\n",
       "      <td>3922 Theft by Deception.</td>\n",
       "      <td>1011.0</td>\n",
       "      <td>7.0</td>\n",
       "      <td>2.0</td>\n",
       "      <td>-79.950295</td>\n",
       "      <td>40.482290</td>\n",
       "    </tr>\n",
       "    <tr>\n",
       "      <th>2</th>\n",
       "      <td>2801809</td>\n",
       "      <td>16000367.0</td>\n",
       "      <td>4</td>\n",
       "      <td>2016-01-01T00:10:00</td>\n",
       "      <td>500 Block Mt Pleasant RD Pittsburgh, PA 15214</td>\n",
       "      <td>N</td>\n",
       "      <td>Northview Heights</td>\n",
       "      <td>1</td>\n",
       "      <td>DISCHARGE OF FIREARM INTO OCC.STRUCTURE</td>\n",
       "      <td>2707.1 Discharge of a Firearm into Occupied St...</td>\n",
       "      <td>2609.0</td>\n",
       "      <td>1.0</td>\n",
       "      <td>1.0</td>\n",
       "      <td>-80.000966</td>\n",
       "      <td>40.478651</td>\n",
       "    </tr>\n",
       "    <tr>\n",
       "      <th>3</th>\n",
       "      <td>2802315</td>\n",
       "      <td>16000035.0</td>\n",
       "      <td>10</td>\n",
       "      <td>2016-01-01T00:15:00</td>\n",
       "      <td>300 Block Wood ST Pittsburgh, PA 15222</td>\n",
       "      <td>Y</td>\n",
       "      <td>Golden Triangle/Civic Arena</td>\n",
       "      <td>2</td>\n",
       "      <td>HARRASSMENT/THREAT/ATTEMPT/PHY</td>\n",
       "      <td>2709(a)(3) Harassment No Legitimate Purpose</td>\n",
       "      <td>201.0</td>\n",
       "      <td>6.0</td>\n",
       "      <td>6.0</td>\n",
       "      <td>-80.001251</td>\n",
       "      <td>40.438918</td>\n",
       "    </tr>\n",
       "    <tr>\n",
       "      <th>4</th>\n",
       "      <td>2802312</td>\n",
       "      <td>16000024.0</td>\n",
       "      <td>4</td>\n",
       "      <td>2016-01-01T00:16:00</td>\n",
       "      <td>500 Block Mt Pleasant RD Pittsburgh, PA 15214</td>\n",
       "      <td>N</td>\n",
       "      <td>Northview Heights</td>\n",
       "      <td>1</td>\n",
       "      <td>PROP MISSILE INTO OCC VEHICLE/OR ROADWAY</td>\n",
       "      <td>2705 Recklessy Endangering Another Person. / 3...</td>\n",
       "      <td>2609.0</td>\n",
       "      <td>1.0</td>\n",
       "      <td>1.0</td>\n",
       "      <td>-80.000966</td>\n",
       "      <td>40.478651</td>\n",
       "    </tr>\n",
       "    <tr>\n",
       "      <th>...</th>\n",
       "      <td>...</td>\n",
       "      <td>...</td>\n",
       "      <td>...</td>\n",
       "      <td>...</td>\n",
       "      <td>...</td>\n",
       "      <td>...</td>\n",
       "      <td>...</td>\n",
       "      <td>...</td>\n",
       "      <td>...</td>\n",
       "      <td>...</td>\n",
       "      <td>...</td>\n",
       "      <td>...</td>\n",
       "      <td>...</td>\n",
       "      <td>...</td>\n",
       "      <td>...</td>\n",
       "    </tr>\n",
       "    <tr>\n",
       "      <th>313265</th>\n",
       "      <td>3381108</td>\n",
       "      <td>23032328.0</td>\n",
       "      <td>6</td>\n",
       "      <td>2023-03-03T19:26:00</td>\n",
       "      <td>1000 Block Brookline BL Pittsburgh, PA 15226</td>\n",
       "      <td>N</td>\n",
       "      <td>Brookline</td>\n",
       "      <td>6</td>\n",
       "      <td>THEFT FROM COIN OPERATED MACH</td>\n",
       "      <td>903 Criminal Conspiracy. / 3921(a) Theft by Un...</td>\n",
       "      <td>1919.0</td>\n",
       "      <td>4.0</td>\n",
       "      <td>5.0</td>\n",
       "      <td>-80.017704</td>\n",
       "      <td>40.392120</td>\n",
       "    </tr>\n",
       "    <tr>\n",
       "      <th>313269</th>\n",
       "      <td>3381118</td>\n",
       "      <td>23032340.0</td>\n",
       "      <td>26</td>\n",
       "      <td>2023-03-03T19:41:00</td>\n",
       "      <td>900 Block Stanhope ST Pittsburgh, PA 15204</td>\n",
       "      <td>N</td>\n",
       "      <td>Sheraden</td>\n",
       "      <td>6</td>\n",
       "      <td>PROTECTIVE ORDERS</td>\n",
       "      <td>9093 Indirect Criminal Contempt</td>\n",
       "      <td>2022.0</td>\n",
       "      <td>2.0</td>\n",
       "      <td>5.0</td>\n",
       "      <td>-80.062244</td>\n",
       "      <td>40.457561</td>\n",
       "    </tr>\n",
       "    <tr>\n",
       "      <th>313272</th>\n",
       "      <td>3381122</td>\n",
       "      <td>23032348.0</td>\n",
       "      <td>10</td>\n",
       "      <td>2023-03-03T19:56:00</td>\n",
       "      <td>2500 Block Bedford AV Pittsburgh, PA 15219</td>\n",
       "      <td>N</td>\n",
       "      <td>Bedford Dwellings</td>\n",
       "      <td>2</td>\n",
       "      <td>SIMPLE ASSAULT/INJURY</td>\n",
       "      <td>2701 Simple Assault. / 3928 Unauthorized Use o...</td>\n",
       "      <td>509.0</td>\n",
       "      <td>6.0</td>\n",
       "      <td>3.0</td>\n",
       "      <td>-79.972833</td>\n",
       "      <td>40.450445</td>\n",
       "    </tr>\n",
       "    <tr>\n",
       "      <th>313275</th>\n",
       "      <td>3381126</td>\n",
       "      <td>23032365.0</td>\n",
       "      <td>26</td>\n",
       "      <td>2023-03-03T20:37:00</td>\n",
       "      <td>Brighton RD &amp; Woods Run AV Pittsburgh, PA 15212</td>\n",
       "      <td>Y</td>\n",
       "      <td>Brighton Heights</td>\n",
       "      <td>1</td>\n",
       "      <td>FALSE RPT LAW ENFORCE AUTH</td>\n",
       "      <td>3334 Turning Movements and Required Signals. /...</td>\n",
       "      <td>2703.0</td>\n",
       "      <td>1.0</td>\n",
       "      <td>1.0</td>\n",
       "      <td>-80.031722</td>\n",
       "      <td>40.476497</td>\n",
       "    </tr>\n",
       "    <tr>\n",
       "      <th>313277</th>\n",
       "      <td>3381128</td>\n",
       "      <td>23032391.0</td>\n",
       "      <td>14</td>\n",
       "      <td>2023-03-03T21:45:00</td>\n",
       "      <td>7600 Block Hamilton AV Pittsburgh, PA 15221</td>\n",
       "      <td>N</td>\n",
       "      <td>Homewood South</td>\n",
       "      <td>5</td>\n",
       "      <td>CRIMINAL MISCHIEF (AUTO)</td>\n",
       "      <td>8106 Shots Fired</td>\n",
       "      <td>1304.0</td>\n",
       "      <td>9.0</td>\n",
       "      <td>2.0</td>\n",
       "      <td>-79.891070</td>\n",
       "      <td>40.452861</td>\n",
       "    </tr>\n",
       "  </tbody>\n",
       "</table>\n",
       "<p>180996 rows × 15 columns</p>\n",
       "</div>"
      ],
      "text/plain": [
       "             PK         CCR  HIERARCHY         INCIDENTTIME   \n",
       "0       2802309  16000001.0         10  2016-01-01T00:00:00  \\\n",
       "1       2803174  16004547.0         11  2016-01-01T00:01:00   \n",
       "2       2801809  16000367.0          4  2016-01-01T00:10:00   \n",
       "3       2802315  16000035.0         10  2016-01-01T00:15:00   \n",
       "4       2802312  16000024.0          4  2016-01-01T00:16:00   \n",
       "...         ...         ...        ...                  ...   \n",
       "313265  3381108  23032328.0          6  2023-03-03T19:26:00   \n",
       "313269  3381118  23032340.0         26  2023-03-03T19:41:00   \n",
       "313272  3381122  23032348.0         10  2023-03-03T19:56:00   \n",
       "313275  3381126  23032365.0         26  2023-03-03T20:37:00   \n",
       "313277  3381128  23032391.0         14  2023-03-03T21:45:00   \n",
       "\n",
       "                                       INCIDENTLOCATION CLEAREDFLAG   \n",
       "0         400 Block North Shore DR Pittsburgh, PA 15212           Y  \\\n",
       "1           5400 Block Carnegie ST Pittsburgh, PA 15201           N   \n",
       "2         500 Block Mt Pleasant RD Pittsburgh, PA 15214           N   \n",
       "3                300 Block Wood ST Pittsburgh, PA 15222           Y   \n",
       "4         500 Block Mt Pleasant RD Pittsburgh, PA 15214           N   \n",
       "...                                                 ...         ...   \n",
       "313265     1000 Block Brookline BL Pittsburgh, PA 15226           N   \n",
       "313269       900 Block Stanhope ST Pittsburgh, PA 15204           N   \n",
       "313272       2500 Block Bedford AV Pittsburgh, PA 15219           N   \n",
       "313275  Brighton RD & Woods Run AV Pittsburgh, PA 15212           Y   \n",
       "313277      7600 Block Hamilton AV Pittsburgh, PA 15221           N   \n",
       "\n",
       "               INCIDENTNEIGHBORHOOD INCIDENTZONE   \n",
       "0                       North Shore            1  \\\n",
       "1               Upper Lawrenceville            2   \n",
       "2                 Northview Heights            1   \n",
       "3       Golden Triangle/Civic Arena            2   \n",
       "4                 Northview Heights            1   \n",
       "...                             ...          ...   \n",
       "313265                    Brookline            6   \n",
       "313269                     Sheraden            6   \n",
       "313272            Bedford Dwellings            2   \n",
       "313275             Brighton Heights            1   \n",
       "313277               Homewood South            5   \n",
       "\n",
       "                           INCIDENTHIERARCHYDESC   \n",
       "0                 HARRASSMENT/THREAT/ATTEMPT/PHY  \\\n",
       "1                             THEFT BY DECEPTION   \n",
       "2        DISCHARGE OF FIREARM INTO OCC.STRUCTURE   \n",
       "3                 HARRASSMENT/THREAT/ATTEMPT/PHY   \n",
       "4       PROP MISSILE INTO OCC VEHICLE/OR ROADWAY   \n",
       "...                                          ...   \n",
       "313265             THEFT FROM COIN OPERATED MACH   \n",
       "313269                         PROTECTIVE ORDERS   \n",
       "313272                     SIMPLE ASSAULT/INJURY   \n",
       "313275                FALSE RPT LAW ENFORCE AUTH   \n",
       "313277                  CRIMINAL MISCHIEF (AUTO)   \n",
       "\n",
       "                                                 OFFENSES  INCIDENTTRACT   \n",
       "0       2702 Aggravated Assault. / 2709(a) Harassment....         2205.0  \\\n",
       "1                                3922 Theft by Deception.         1011.0   \n",
       "2       2707.1 Discharge of a Firearm into Occupied St...         2609.0   \n",
       "3             2709(a)(3) Harassment No Legitimate Purpose          201.0   \n",
       "4       2705 Recklessy Endangering Another Person. / 3...         2609.0   \n",
       "...                                                   ...            ...   \n",
       "313265  903 Criminal Conspiracy. / 3921(a) Theft by Un...         1919.0   \n",
       "313269                    9093 Indirect Criminal Contempt         2022.0   \n",
       "313272  2701 Simple Assault. / 3928 Unauthorized Use o...          509.0   \n",
       "313275  3334 Turning Movements and Required Signals. /...         2703.0   \n",
       "313277                                   8106 Shots Fired         1304.0   \n",
       "\n",
       "        COUNCIL_DISTRICT  PUBLIC_WORKS_DIVISION          X          Y  \n",
       "0                    1.0                    6.0 -80.012337  40.446263  \n",
       "1                    7.0                    2.0 -79.950295  40.482290  \n",
       "2                    1.0                    1.0 -80.000966  40.478651  \n",
       "3                    6.0                    6.0 -80.001251  40.438918  \n",
       "4                    1.0                    1.0 -80.000966  40.478651  \n",
       "...                  ...                    ...        ...        ...  \n",
       "313265               4.0                    5.0 -80.017704  40.392120  \n",
       "313269               2.0                    5.0 -80.062244  40.457561  \n",
       "313272               6.0                    3.0 -79.972833  40.450445  \n",
       "313275               1.0                    1.0 -80.031722  40.476497  \n",
       "313277               9.0                    2.0 -79.891070  40.452861  \n",
       "\n",
       "[180996 rows x 15 columns]"
      ]
     },
     "execution_count": 5,
     "metadata": {},
     "output_type": "execute_result"
    }
   ],
   "source": [
    "#Drop the missing rows\n",
    "crime_data.dropna()"
   ]
  },
  {
   "cell_type": "code",
   "execution_count": 6,
   "metadata": {},
   "outputs": [
    {
     "data": {
      "text/plain": [
       "INCIDENTHIERARCHYDESC\n",
       "THEFT FROM AUTO                   16641\n",
       "THEFT/ALL OTHERS                  14531\n",
       "SIMPLE ASSAULT/INJURY             12028\n",
       "CRIMINAL MISCHIEF (AUTO)          10891\n",
       "RETAIL THEFT (SHOPLIFTING)         8265\n",
       "                                  ...  \n",
       "USE CARTS/TRAYS/BASKETS/CO NT         1\n",
       "ASSAULT BY LIFE PRISON/KNIFE          1\n",
       "UNAUTHORIZED USE VEHICLE/OTHER        1\n",
       "ETHNIC INT - PHYSICAL/MENTAL          1\n",
       "EMBEZZLEMENT - OTHER                  1\n",
       "Name: count, Length: 313, dtype: int64"
      ]
     },
     "execution_count": 6,
     "metadata": {},
     "output_type": "execute_result"
    }
   ],
   "source": [
    "#Amount of instances of each recorded crime\n",
    "crime_data['INCIDENTHIERARCHYDESC'].value_counts()"
   ]
  },
  {
   "cell_type": "markdown",
   "metadata": {},
   "source": [
    "Unrelated to the problem and just for fun here we can see the most commited crime in pittsburgh is Theft From Cars. So lock your cars."
   ]
  },
  {
   "cell_type": "code",
   "execution_count": 10,
   "metadata": {},
   "outputs": [
    {
     "data": {
      "text/plain": [
       "INCIDENTNEIGHBORHOOD\n",
       "South Side Flats             17661\n",
       "Central Business District    17413\n",
       "Carrick                      10959\n",
       "Bloomfield                    8164\n",
       "Shadyside                     8051\n",
       "                             ...  \n",
       "Ridgemont                      282\n",
       "Troy Hill-Herrs Island         252\n",
       "Outside County                 226\n",
       "Mt. Oliver Neighborhood        117\n",
       "Mt. Oliver Boro                 94\n",
       "Name: count, Length: 98, dtype: int64"
      ]
     },
     "execution_count": 10,
     "metadata": {},
     "output_type": "execute_result"
    }
   ],
   "source": [
    "#Amount of recorded crimes in each neighborhood\n",
    "crime_data['INCIDENTNEIGHBORHOOD'].value_counts()"
   ]
  },
  {
   "cell_type": "code",
   "execution_count": 11,
   "metadata": {},
   "outputs": [],
   "source": [
    "#Combine the Mt. Oliver duplicated due to human input\n",
    "crime_data['INCIDENTNEIGHBORHOOD'] = crime_data['INCIDENTNEIGHBORHOOD'].replace('Mt. Oliver Boro','Mt. Oliver Neighborhood')"
   ]
  },
  {
   "cell_type": "code",
   "execution_count": 12,
   "metadata": {},
   "outputs": [],
   "source": [
    "#Delete rows that are from Outside State and Outside County because they are not in the pittsburgh neighborhoods\n",
    "crime = crime_data[crime_data['INCIDENTNEIGHBORHOOD'].str.contains(\"Outside County|Outside State\")== False]\n",
    "\n",
    "#Here we are dropping irrelevant crimes or NA\n",
    "crime_updated = crime[crime['INCIDENTHIERARCHYDESC'].str.contains(\"NA|99|FOUND PROPERTY|PUBLIC DRUNKENESS|CREDIT CARDS|MISCELLANEOUS INVESTIGATION|LOST PROPERTY|BAD CHECKS\")== False]"
   ]
  },
  {
   "cell_type": "code",
   "execution_count": 13,
   "metadata": {},
   "outputs": [
    {
     "data": {
      "text/plain": [
       "INCIDENTNEIGHBORHOOD\n",
       "Mt. Oliver Neighborhood    126\n",
       "Ridgemont                  135\n",
       "Troy Hill-Herrs Island     141\n",
       "Chartiers City             165\n",
       "New Homestead              169\n",
       "East Carnegie              197\n",
       "Swisshelm Park             227\n",
       "Hays                       228\n",
       "Mount Oliver               257\n",
       "Summer Hill                286\n",
       "Oakwood                    299\n",
       "Esplen                     318\n",
       "Arlington Heights          331\n",
       "Regent Square              340\n",
       "St. Clair                  362\n",
       "West End                   373\n",
       "Glen Hazel                 390\n",
       "Fairywood                  393\n",
       "South Shore                451\n",
       "Spring Garden              457\n",
       "Name: count, dtype: int64"
      ]
     },
     "execution_count": 13,
     "metadata": {},
     "output_type": "execute_result"
    }
   ],
   "source": [
    "#Show the cleaned up instances\n",
    "data_frame = crime_updated['INCIDENTNEIGHBORHOOD'].value_counts().sort_values().head(20)\n",
    "data_frame"
   ]
  },
  {
   "cell_type": "code",
   "execution_count": 54,
   "metadata": {},
   "outputs": [
    {
     "data": {
      "text/plain": [
       "<matplotlib.axes._subplots.AxesSubplot at 0x7f677d8db6d0>"
      ]
     },
     "execution_count": 54,
     "metadata": {},
     "output_type": "execute_result"
    },
    {
     "data": {
      "image/png": "[encoded data removed]",
      "text/plain": [
       "<Figure size 432x288 with 1 Axes>"
      ]
     },
     "metadata": {
      "needs_background": "light"
     },
     "output_type": "display_data"
    }
   ],
   "source": [
    "data_frame.head(35).plot.bar()"
   ]
  },
  {
   "cell_type": "markdown",
   "metadata": {},
   "source": [
    "    The graph above shows our data ploted from least to greatest after our data is cleaned and instances are counted for each neighborhood. "
   ]
  },
  {
   "cell_type": "code",
   "execution_count": 55,
   "metadata": {},
   "outputs": [
    {
     "data": {
      "text/plain": [
       "<matplotlib.axes._subplots.AxesSubplot at 0x7f677d8c6250>"
      ]
     },
     "execution_count": 55,
     "metadata": {},
     "output_type": "execute_result"
    },
    {
     "data": {
      "image/png": "[encoded data removed]",
      "text/plain": [
       "<Figure size 432x288 with 1 Axes>"
      ]
     },
     "metadata": {
      "needs_background": "light"
     },
     "output_type": "display_data"
    }
   ],
   "source": [
    "data_frame.head(9).plot.bar()"
   ]
  },
  {
   "cell_type": "markdown",
   "metadata": {},
   "source": [
    "**Conclusion**"
   ]
  },
  {
   "cell_type": "markdown",
   "metadata": {},
   "source": [
    "    The graph above shows the top 10 safest neighborhoods by lowest amount of reported crime for better visualization. Mt. Oliver, Ridgemont and Troy Hill-Herrs are in the top 3 respectively."
   ]
  },
  {
   "cell_type": "code",
   "execution_count": null,
   "metadata": {},
   "outputs": [],
   "source": []
  },
  {
   "cell_type": "code",
   "execution_count": null,
   "metadata": {},
   "outputs": [],
   "source": []
  },
  {
   "cell_type": "code",
   "execution_count": null,
   "metadata": {},
   "outputs": [],
   "source": []
  }
 ],
 "metadata": {
  "kernelspec": {
   "display_name": "Python 3",
   "language": "python",
   "name": "python3"
  },
  "language_info": {
   "codemirror_mode": {
    "name": "ipython",
    "version": 3
   },
   "file_extension": ".py",
   "mimetype": "text/x-python",
   "name": "python",
   "nbconvert_exporter": "python",
   "pygments_lexer": "ipython3",
   "version": "3.8.3"
  }
 },
 "nbformat": 4,
 "nbformat_minor": 4
}
